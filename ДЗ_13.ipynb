{
  "nbformat": 4,
  "nbformat_minor": 0,
  "metadata": {
    "colab": {
      "name": "ДЗ_13.ipynb",
      "provenance": [],
      "authorship_tag": "ABX9TyP5NxtwxXf+4gdrkPwW6URD",
      "include_colab_link": true
    },
    "kernelspec": {
      "name": "python3",
      "display_name": "Python 3"
    },
    "language_info": {
      "name": "python"
    }
  },
  "cells": [
    {
      "cell_type": "markdown",
      "metadata": {
        "id": "view-in-github",
        "colab_type": "text"
      },
      "source": [
        "<a href=\"https://colab.research.google.com/github/poluslavik13/innopolis/blob/main/%D0%94%D0%97_13.ipynb\" target=\"_parent\"><img src=\"https://colab.research.google.com/assets/colab-badge.svg\" alt=\"Open In Colab\"/></a>"
      ]
    },
    {
      "cell_type": "code",
      "execution_count": 1,
      "metadata": {
        "colab": {
          "base_uri": "https://localhost:8080/"
        },
        "id": "pEjCCZgisaIu",
        "outputId": "9af9a39d-2aa3-4a65-8b73-f4c13b19fad6"
      },
      "outputs": [
        {
          "output_type": "stream",
          "name": "stdout",
          "text": [
            "Collecting pyspark\n",
            "  Downloading pyspark-3.2.1.tar.gz (281.4 MB)\n",
            "\u001b[K     |████████████████████████████████| 281.4 MB 34 kB/s \n",
            "\u001b[?25hCollecting py4j==0.10.9.3\n",
            "  Downloading py4j-0.10.9.3-py2.py3-none-any.whl (198 kB)\n",
            "\u001b[K     |████████████████████████████████| 198 kB 50.2 MB/s \n",
            "\u001b[?25hBuilding wheels for collected packages: pyspark\n",
            "  Building wheel for pyspark (setup.py) ... \u001b[?25l\u001b[?25hdone\n",
            "  Created wheel for pyspark: filename=pyspark-3.2.1-py2.py3-none-any.whl size=281853642 sha256=87823cb060a9c2cb14eb9f90891854374b6dcccdda5c0d3270285c830d85d3fe\n",
            "  Stored in directory: /root/.cache/pip/wheels/9f/f5/07/7cd8017084dce4e93e84e92efd1e1d5334db05f2e83bcef74f\n",
            "Successfully built pyspark\n",
            "Installing collected packages: py4j, pyspark\n",
            "Successfully installed py4j-0.10.9.3 pyspark-3.2.1\n"
          ]
        }
      ],
      "source": [
        "!pip install pyspark"
      ]
    },
    {
      "cell_type": "code",
      "source": [
        "# загружаем библиотеки\n",
        "import pandas as pd\n",
        "import numpy as np\n",
        "\n",
        "from pyspark.sql.functions import *\n",
        "from pyspark.sql.types import DoubleType, IntegerType, DateType\n",
        "\n",
        "from pyspark.ml.feature import StringIndexer\n",
        "from pyspark.ml import Pipeline\n",
        "from pyspark.ml.feature import VectorAssembler\n",
        "from pyspark.ml.classification import LogisticRegression\n",
        "from pyspark.ml.evaluation import MulticlassClassificationEvaluator"
      ],
      "metadata": {
        "id": "VZdshwsFtHTG"
      },
      "execution_count": 2,
      "outputs": []
    },
    {
      "cell_type": "code",
      "source": [
        "from pyspark.context import SparkContext\n",
        "from pyspark.sql.session import SparkSession # to define a SparkSession\n",
        "\n",
        "sc = SparkContext('local') # spark_connection\n",
        "spark = SparkSession(sc) # open spark session"
      ],
      "metadata": {
        "id": "nk-UqYo1tI5z"
      },
      "execution_count": 3,
      "outputs": []
    },
    {
      "cell_type": "markdown",
      "source": [
        "Задание. Обучите модель классификации для цветков Iris'а\n",
        "Примерная последовательность действий:\n",
        "\n",
        "Взять данные iris.csv\n",
        "Загрузить в pyspark\n",
        "При помощи VectorAssembler преобразовать все колонки с признаками в одну (использовать PipeLine)\n",
        "Разбить данные на train и test\n",
        "Создать модель логистической регресии и обучить ее\n",
        "Воспользоваться MulticlassClassificationEvaluator для оценки качества на train и test множестве"
      ],
      "metadata": {
        "id": "7GJ0pRTNtOM0"
      }
    },
    {
      "cell_type": "markdown",
      "source": [
        "1-2. Загружаем iris через pyspark"
      ],
      "metadata": {
        "id": "wg_48eTWtRyI"
      }
    },
    {
      "cell_type": "code",
      "source": [
        "# Используем options() чтобы задать несколько опций:\n",
        "# header=True - Для чтения использует первую строку в качестве имен столбцов\n",
        "# sep=\",\" - Устанавливает разделитель для каждого поля и значения\n",
        "# quote=\"\" - Нужно установить пустую строку для отключения кавычки, тк quote по-умолчанию \", тк ковычки не являются разделителем\n",
        "df = spark.read.format(\"com.databricks.spark.csv\").options(sep=\",\", header=True, quote=\"\").csv('iris.csv')"
      ],
      "metadata": {
        "id": "Ye0SVwOrQQLc"
      },
      "execution_count": null,
      "outputs": []
    },
    {
      "cell_type": "code",
      "source": [
        "df.show(10)"
      ],
      "metadata": {
        "colab": {
          "base_uri": "https://localhost:8080/"
        },
        "id": "aSkkeDbakSb1",
        "outputId": "c88233b1-c51c-4b79-86b7-aaf7136d30ef"
      },
      "execution_count": null,
      "outputs": [
        {
          "output_type": "stream",
          "name": "stdout",
          "text": [
            "+-------------+---------------+----------------+---------------+------------+\n",
            "|\"sepal.length|\"\"sepal.width\"\"|\"\"petal.length\"\"|\"\"petal.width\"\"|\"\"variety\"\"\"|\n",
            "+-------------+---------------+----------------+---------------+------------+\n",
            "|         \"5.1|            3.5|             1.4|             .2| \"\"Setosa\"\"\"|\n",
            "|         \"4.9|              3|             1.4|             .2| \"\"Setosa\"\"\"|\n",
            "|         \"4.7|            3.2|             1.3|             .2| \"\"Setosa\"\"\"|\n",
            "|         \"4.6|            3.1|             1.5|             .2| \"\"Setosa\"\"\"|\n",
            "|           \"5|            3.6|             1.4|             .2| \"\"Setosa\"\"\"|\n",
            "|         \"5.4|            3.9|             1.7|             .4| \"\"Setosa\"\"\"|\n",
            "|         \"4.6|            3.4|             1.4|             .3| \"\"Setosa\"\"\"|\n",
            "|           \"5|            3.4|             1.5|             .2| \"\"Setosa\"\"\"|\n",
            "|         \"4.4|            2.9|             1.4|             .2| \"\"Setosa\"\"\"|\n",
            "|         \"4.9|            3.1|             1.5|             .1| \"\"Setosa\"\"\"|\n",
            "+-------------+---------------+----------------+---------------+------------+\n",
            "only showing top 10 rows\n",
            "\n"
          ]
        }
      ]
    },
    {
      "cell_type": "code",
      "source": [
        "# преобразуем названия колонок, создав новый датафрейм\n",
        "newColumns = [\"sepal_length\",\"sepal_width\",\"petal_length\",\"petal_width\",\"variety\"]\n",
        "df_new = df.toDF(*newColumns)\n",
        "\n",
        "# удалим двойные ковычки в первом и последнем атрибутах\n",
        "df_new = df_new.withColumn(\"sepal_length\", regexp_replace(col(\"sepal_length\"), '\"', \"\"))\\\n",
        "    .withColumn(\"variety\", regexp_replace(col(\"variety\"), '\"', \"\"))\n",
        "\n",
        "# преобразуем в другие типы данных\n",
        "df_new = df_new \\\n",
        "    .withColumn('sepal_length', col('sepal_length').cast(DoubleType())) \\\n",
        "    .withColumn('sepal_width', col('sepal_width').cast(DoubleType())) \\\n",
        "    .withColumn('petal_length', col('petal_length').cast(DoubleType())) \\\n",
        "    .withColumn('petal_width', col('petal_width').cast(DoubleType()))"
      ],
      "metadata": {
        "id": "FPmX0-9sRCAt"
      },
      "execution_count": null,
      "outputs": []
    },
    {
      "cell_type": "code",
      "source": [
        "df_new.show(10) # посмотрим на преобразование"
      ],
      "metadata": {
        "colab": {
          "base_uri": "https://localhost:8080/"
        },
        "id": "-u1_SZT_Q-fe",
        "outputId": "fa3a3444-730e-4c2e-83e9-a0adfa3655a2"
      },
      "execution_count": null,
      "outputs": [
        {
          "output_type": "stream",
          "name": "stdout",
          "text": [
            "+------------+-----------+------------+-----------+-------+\n",
            "|sepal_length|sepal_width|petal_length|petal_width|variety|\n",
            "+------------+-----------+------------+-----------+-------+\n",
            "|         5.1|        3.5|         1.4|        0.2| Setosa|\n",
            "|         4.9|        3.0|         1.4|        0.2| Setosa|\n",
            "|         4.7|        3.2|         1.3|        0.2| Setosa|\n",
            "|         4.6|        3.1|         1.5|        0.2| Setosa|\n",
            "|         5.0|        3.6|         1.4|        0.2| Setosa|\n",
            "|         5.4|        3.9|         1.7|        0.4| Setosa|\n",
            "|         4.6|        3.4|         1.4|        0.3| Setosa|\n",
            "|         5.0|        3.4|         1.5|        0.2| Setosa|\n",
            "|         4.4|        2.9|         1.4|        0.2| Setosa|\n",
            "|         4.9|        3.1|         1.5|        0.1| Setosa|\n",
            "+------------+-----------+------------+-----------+-------+\n",
            "only showing top 10 rows\n",
            "\n"
          ]
        }
      ]
    },
    {
      "cell_type": "code",
      "source": [
        "df_new.printSchema() # посмотрим на типы атрибутов"
      ],
      "metadata": {
        "colab": {
          "base_uri": "https://localhost:8080/"
        },
        "id": "5yNMqRpgROyX",
        "outputId": "66b057a8-cd06-4beb-d10c-25ac2a6d198c"
      },
      "execution_count": null,
      "outputs": [
        {
          "output_type": "stream",
          "name": "stdout",
          "text": [
            "root\n",
            " |-- sepal_length: double (nullable = true)\n",
            " |-- sepal_width: double (nullable = true)\n",
            " |-- petal_length: double (nullable = true)\n",
            " |-- petal_width: double (nullable = true)\n",
            " |-- variety: string (nullable = true)\n",
            "\n"
          ]
        }
      ]
    },
    {
      "cell_type": "code",
      "source": [
        "df_new.summary().show()\n"
      ],
      "metadata": {
        "colab": {
          "base_uri": "https://localhost:8080/"
        },
        "id": "3eca5eqFQgA5",
        "outputId": "37d6618b-4f0a-4083-8773-2eeff1f77e22"
      },
      "execution_count": null,
      "outputs": [
        {
          "output_type": "stream",
          "name": "stdout",
          "text": [
            "+-------+------------------+-------------------+------------------+------------------+---------+\n",
            "|summary|      sepal_length|        sepal_width|      petal_length|       petal_width|  variety|\n",
            "+-------+------------------+-------------------+------------------+------------------+---------+\n",
            "|  count|               150|                150|               150|               150|      150|\n",
            "|   mean| 5.843333333333335|  3.057333333333334|3.7580000000000027| 1.199333333333334|     null|\n",
            "| stddev|0.8280661279778637|0.43586628493669793|1.7652982332594662|0.7622376689603467|     null|\n",
            "|    min|               4.3|                2.0|               1.0|               0.1|   Setosa|\n",
            "|    25%|               5.1|                2.8|               1.6|               0.3|     null|\n",
            "|    50%|               5.8|                3.0|               4.3|               1.3|     null|\n",
            "|    75%|               6.4|                3.3|               5.1|               1.8|     null|\n",
            "|    max|               7.9|                4.4|               6.9|               2.5|Virginica|\n",
            "+-------+------------------+-------------------+------------------+------------------+---------+\n",
            "\n"
          ]
        }
      ]
    },
    {
      "cell_type": "markdown",
      "source": [
        "### 3. При помощи VectorAssembler преобразовать все колонки с признаками в одну (использовать PipeLine)"
      ],
      "metadata": {
        "id": "kJWThODoACEn"
      }
    },
    {
      "cell_type": "code",
      "source": [
        "pipeline = Pipeline(stages = \n",
        "[\n",
        "  VectorAssembler(inputCols=[\"sepal_length\", \"sepal_width\", \"petal_length\", \"petal_width\"], outputCol='Features'),\n",
        "  StringIndexer(inputCol='variety', outputCol='varietyInd')\n",
        "]\n",
        ")"
      ],
      "metadata": {
        "id": "xEYNsctqSIF5"
      },
      "execution_count": null,
      "outputs": []
    },
    {
      "cell_type": "code",
      "source": [
        "# подгоняем через заданный pipeline наш датасет\n",
        "pipelineTrained = pipeline.fit(df_new)"
      ],
      "metadata": {
        "id": "5JSyfk8GUsdK"
      },
      "execution_count": null,
      "outputs": []
    },
    {
      "cell_type": "code",
      "source": [
        "# применяем метод transform для объекта VectorAssembler (преобразуем признаки в вектор) \n",
        "pipelineTrained.transform(df_new).show()"
      ],
      "metadata": {
        "colab": {
          "base_uri": "https://localhost:8080/"
        },
        "id": "hC_nxQNQUt4M",
        "outputId": "92070ec0-9378-4441-efdd-2266eb5eaebf"
      },
      "execution_count": null,
      "outputs": [
        {
          "output_type": "stream",
          "name": "stdout",
          "text": [
            "+------------+-----------+------------+-----------+-------+-----------------+----------+\n",
            "|sepal_length|sepal_width|petal_length|petal_width|variety|         Features|varietyInd|\n",
            "+------------+-----------+------------+-----------+-------+-----------------+----------+\n",
            "|         5.1|        3.5|         1.4|        0.2| Setosa|[5.1,3.5,1.4,0.2]|       0.0|\n",
            "|         4.9|        3.0|         1.4|        0.2| Setosa|[4.9,3.0,1.4,0.2]|       0.0|\n",
            "|         4.7|        3.2|         1.3|        0.2| Setosa|[4.7,3.2,1.3,0.2]|       0.0|\n",
            "|         4.6|        3.1|         1.5|        0.2| Setosa|[4.6,3.1,1.5,0.2]|       0.0|\n",
            "|         5.0|        3.6|         1.4|        0.2| Setosa|[5.0,3.6,1.4,0.2]|       0.0|\n",
            "|         5.4|        3.9|         1.7|        0.4| Setosa|[5.4,3.9,1.7,0.4]|       0.0|\n",
            "|         4.6|        3.4|         1.4|        0.3| Setosa|[4.6,3.4,1.4,0.3]|       0.0|\n",
            "|         5.0|        3.4|         1.5|        0.2| Setosa|[5.0,3.4,1.5,0.2]|       0.0|\n",
            "|         4.4|        2.9|         1.4|        0.2| Setosa|[4.4,2.9,1.4,0.2]|       0.0|\n",
            "|         4.9|        3.1|         1.5|        0.1| Setosa|[4.9,3.1,1.5,0.1]|       0.0|\n",
            "|         5.4|        3.7|         1.5|        0.2| Setosa|[5.4,3.7,1.5,0.2]|       0.0|\n",
            "|         4.8|        3.4|         1.6|        0.2| Setosa|[4.8,3.4,1.6,0.2]|       0.0|\n",
            "|         4.8|        3.0|         1.4|        0.1| Setosa|[4.8,3.0,1.4,0.1]|       0.0|\n",
            "|         4.3|        3.0|         1.1|        0.1| Setosa|[4.3,3.0,1.1,0.1]|       0.0|\n",
            "|         5.8|        4.0|         1.2|        0.2| Setosa|[5.8,4.0,1.2,0.2]|       0.0|\n",
            "|         5.7|        4.4|         1.5|        0.4| Setosa|[5.7,4.4,1.5,0.4]|       0.0|\n",
            "|         5.4|        3.9|         1.3|        0.4| Setosa|[5.4,3.9,1.3,0.4]|       0.0|\n",
            "|         5.1|        3.5|         1.4|        0.3| Setosa|[5.1,3.5,1.4,0.3]|       0.0|\n",
            "|         5.7|        3.8|         1.7|        0.3| Setosa|[5.7,3.8,1.7,0.3]|       0.0|\n",
            "|         5.1|        3.8|         1.5|        0.3| Setosa|[5.1,3.8,1.5,0.3]|       0.0|\n",
            "+------------+-----------+------------+-----------+-------+-----------------+----------+\n",
            "only showing top 20 rows\n",
            "\n"
          ]
        }
      ]
    },
    {
      "cell_type": "code",
      "source": [
        "# с новым признаком Features создаем новый датафрейм\n",
        "df_features = pipelineTrained.transform(df_new)\n",
        "df_features.show()"
      ],
      "metadata": {
        "id": "5XtsTGh_U5zo",
        "colab": {
          "base_uri": "https://localhost:8080/"
        },
        "outputId": "4cd4d549-a706-463a-895a-6baf880a8fd6"
      },
      "execution_count": null,
      "outputs": [
        {
          "output_type": "stream",
          "name": "stdout",
          "text": [
            "+------------+-----------+------------+-----------+-------+-----------------+----------+\n",
            "|sepal_length|sepal_width|petal_length|petal_width|variety|         Features|varietyInd|\n",
            "+------------+-----------+------------+-----------+-------+-----------------+----------+\n",
            "|         5.1|        3.5|         1.4|        0.2| Setosa|[5.1,3.5,1.4,0.2]|       0.0|\n",
            "|         4.9|        3.0|         1.4|        0.2| Setosa|[4.9,3.0,1.4,0.2]|       0.0|\n",
            "|         4.7|        3.2|         1.3|        0.2| Setosa|[4.7,3.2,1.3,0.2]|       0.0|\n",
            "|         4.6|        3.1|         1.5|        0.2| Setosa|[4.6,3.1,1.5,0.2]|       0.0|\n",
            "|         5.0|        3.6|         1.4|        0.2| Setosa|[5.0,3.6,1.4,0.2]|       0.0|\n",
            "|         5.4|        3.9|         1.7|        0.4| Setosa|[5.4,3.9,1.7,0.4]|       0.0|\n",
            "|         4.6|        3.4|         1.4|        0.3| Setosa|[4.6,3.4,1.4,0.3]|       0.0|\n",
            "|         5.0|        3.4|         1.5|        0.2| Setosa|[5.0,3.4,1.5,0.2]|       0.0|\n",
            "|         4.4|        2.9|         1.4|        0.2| Setosa|[4.4,2.9,1.4,0.2]|       0.0|\n",
            "|         4.9|        3.1|         1.5|        0.1| Setosa|[4.9,3.1,1.5,0.1]|       0.0|\n",
            "|         5.4|        3.7|         1.5|        0.2| Setosa|[5.4,3.7,1.5,0.2]|       0.0|\n",
            "|         4.8|        3.4|         1.6|        0.2| Setosa|[4.8,3.4,1.6,0.2]|       0.0|\n",
            "|         4.8|        3.0|         1.4|        0.1| Setosa|[4.8,3.0,1.4,0.1]|       0.0|\n",
            "|         4.3|        3.0|         1.1|        0.1| Setosa|[4.3,3.0,1.1,0.1]|       0.0|\n",
            "|         5.8|        4.0|         1.2|        0.2| Setosa|[5.8,4.0,1.2,0.2]|       0.0|\n",
            "|         5.7|        4.4|         1.5|        0.4| Setosa|[5.7,4.4,1.5,0.4]|       0.0|\n",
            "|         5.4|        3.9|         1.3|        0.4| Setosa|[5.4,3.9,1.3,0.4]|       0.0|\n",
            "|         5.1|        3.5|         1.4|        0.3| Setosa|[5.1,3.5,1.4,0.3]|       0.0|\n",
            "|         5.7|        3.8|         1.7|        0.3| Setosa|[5.7,3.8,1.7,0.3]|       0.0|\n",
            "|         5.1|        3.8|         1.5|        0.3| Setosa|[5.1,3.8,1.5,0.3]|       0.0|\n",
            "+------------+-----------+------------+-----------+-------+-----------------+----------+\n",
            "only showing top 20 rows\n",
            "\n"
          ]
        }
      ]
    },
    {
      "cell_type": "markdown",
      "source": [
        "### 4. Разбить данные на train и test\n"
      ],
      "metadata": {
        "id": "gEDKK_1DU-nW"
      }
    },
    {
      "cell_type": "code",
      "source": [
        "# назначаем соответствующие веса и указываем seed (рандомное разделение выборки сохранилось)\n",
        "train, test = df_features.randomSplit([0.7, 0.3], seed=12345)"
      ],
      "metadata": {
        "id": "SoNszhpbVBhP"
      },
      "execution_count": null,
      "outputs": []
    },
    {
      "cell_type": "code",
      "source": [
        "# посмотрим на обучающую выборку\n",
        "train.show()"
      ],
      "metadata": {
        "colab": {
          "base_uri": "https://localhost:8080/"
        },
        "id": "tnWIvU5dVENQ",
        "outputId": "26798474-6c4f-4ac4-8c05-7952268364ad"
      },
      "execution_count": null,
      "outputs": [
        {
          "output_type": "stream",
          "name": "stdout",
          "text": [
            "+------------+-----------+------------+-----------+----------+-----------------+----------+\n",
            "|sepal_length|sepal_width|petal_length|petal_width|   variety|         Features|varietyInd|\n",
            "+------------+-----------+------------+-----------+----------+-----------------+----------+\n",
            "|         4.3|        3.0|         1.1|        0.1|    Setosa|[4.3,3.0,1.1,0.1]|       0.0|\n",
            "|         4.4|        2.9|         1.4|        0.2|    Setosa|[4.4,2.9,1.4,0.2]|       0.0|\n",
            "|         4.4|        3.0|         1.3|        0.2|    Setosa|[4.4,3.0,1.3,0.2]|       0.0|\n",
            "|         4.4|        3.2|         1.3|        0.2|    Setosa|[4.4,3.2,1.3,0.2]|       0.0|\n",
            "|         4.5|        2.3|         1.3|        0.3|    Setosa|[4.5,2.3,1.3,0.3]|       0.0|\n",
            "|         4.6|        3.1|         1.5|        0.2|    Setosa|[4.6,3.1,1.5,0.2]|       0.0|\n",
            "|         4.6|        3.4|         1.4|        0.3|    Setosa|[4.6,3.4,1.4,0.3]|       0.0|\n",
            "|         4.6|        3.6|         1.0|        0.2|    Setosa|[4.6,3.6,1.0,0.2]|       0.0|\n",
            "|         4.7|        3.2|         1.3|        0.2|    Setosa|[4.7,3.2,1.3,0.2]|       0.0|\n",
            "|         4.7|        3.2|         1.6|        0.2|    Setosa|[4.7,3.2,1.6,0.2]|       0.0|\n",
            "|         4.8|        3.0|         1.4|        0.1|    Setosa|[4.8,3.0,1.4,0.1]|       0.0|\n",
            "|         4.8|        3.0|         1.4|        0.3|    Setosa|[4.8,3.0,1.4,0.3]|       0.0|\n",
            "|         4.8|        3.4|         1.6|        0.2|    Setosa|[4.8,3.4,1.6,0.2]|       0.0|\n",
            "|         4.8|        3.4|         1.9|        0.2|    Setosa|[4.8,3.4,1.9,0.2]|       0.0|\n",
            "|         4.9|        2.4|         3.3|        1.0|Versicolor|[4.9,2.4,3.3,1.0]|       1.0|\n",
            "|         4.9|        3.0|         1.4|        0.2|    Setosa|[4.9,3.0,1.4,0.2]|       0.0|\n",
            "|         4.9|        3.1|         1.5|        0.1|    Setosa|[4.9,3.1,1.5,0.1]|       0.0|\n",
            "|         4.9|        3.1|         1.5|        0.2|    Setosa|[4.9,3.1,1.5,0.2]|       0.0|\n",
            "|         4.9|        3.6|         1.4|        0.1|    Setosa|[4.9,3.6,1.4,0.1]|       0.0|\n",
            "|         5.0|        2.0|         3.5|        1.0|Versicolor|[5.0,2.0,3.5,1.0]|       1.0|\n",
            "+------------+-----------+------------+-----------+----------+-----------------+----------+\n",
            "only showing top 20 rows\n",
            "\n"
          ]
        }
      ]
    },
    {
      "cell_type": "code",
      "source": [
        "test.show()"
      ],
      "metadata": {
        "colab": {
          "base_uri": "https://localhost:8080/"
        },
        "id": "IRwu-WAB476A",
        "outputId": "2326fbbc-bab0-4e10-bd8a-5ce91618cd53"
      },
      "execution_count": null,
      "outputs": [
        {
          "output_type": "stream",
          "name": "stdout",
          "text": [
            "+------------+-----------+------------+-----------+----------+-----------------+----------+\n",
            "|sepal_length|sepal_width|petal_length|petal_width|   variety|         Features|varietyInd|\n",
            "+------------+-----------+------------+-----------+----------+-----------------+----------+\n",
            "|         4.6|        3.2|         1.4|        0.2|    Setosa|[4.6,3.2,1.4,0.2]|       0.0|\n",
            "|         4.8|        3.1|         1.6|        0.2|    Setosa|[4.8,3.1,1.6,0.2]|       0.0|\n",
            "|         4.9|        2.5|         4.5|        1.7| Virginica|[4.9,2.5,4.5,1.7]|       2.0|\n",
            "|         5.0|        3.0|         1.6|        0.2|    Setosa|[5.0,3.0,1.6,0.2]|       0.0|\n",
            "|         5.0|        3.2|         1.2|        0.2|    Setosa|[5.0,3.2,1.2,0.2]|       0.0|\n",
            "|         5.0|        3.5|         1.3|        0.3|    Setosa|[5.0,3.5,1.3,0.3]|       0.0|\n",
            "|         5.1|        3.5|         1.4|        0.3|    Setosa|[5.1,3.5,1.4,0.3]|       0.0|\n",
            "|         5.4|        3.4|         1.5|        0.4|    Setosa|[5.4,3.4,1.5,0.4]|       0.0|\n",
            "|         5.4|        3.9|         1.3|        0.4|    Setosa|[5.4,3.9,1.3,0.4]|       0.0|\n",
            "|         5.7|        2.8|         4.1|        1.3|Versicolor|[5.7,2.8,4.1,1.3]|       1.0|\n",
            "|         5.7|        4.4|         1.5|        0.4|    Setosa|[5.7,4.4,1.5,0.4]|       0.0|\n",
            "|         5.8|        4.0|         1.2|        0.2|    Setosa|[5.8,4.0,1.2,0.2]|       0.0|\n",
            "|         6.0|        2.9|         4.5|        1.5|Versicolor|[6.0,2.9,4.5,1.5]|       1.0|\n",
            "|         6.1|        2.6|         5.6|        1.4| Virginica|[6.1,2.6,5.6,1.4]|       2.0|\n",
            "|         6.1|        2.9|         4.7|        1.4|Versicolor|[6.1,2.9,4.7,1.4]|       1.0|\n",
            "|         6.2|        2.2|         4.5|        1.5|Versicolor|[6.2,2.2,4.5,1.5]|       1.0|\n",
            "|         6.2|        2.9|         4.3|        1.3|Versicolor|[6.2,2.9,4.3,1.3]|       1.0|\n",
            "|         6.2|        3.4|         5.4|        2.3| Virginica|[6.2,3.4,5.4,2.3]|       2.0|\n",
            "|         6.4|        2.8|         5.6|        2.2| Virginica|[6.4,2.8,5.6,2.2]|       2.0|\n",
            "|         6.4|        3.1|         5.5|        1.8| Virginica|[6.4,3.1,5.5,1.8]|       2.0|\n",
            "+------------+-----------+------------+-----------+----------+-----------------+----------+\n",
            "only showing top 20 rows\n",
            "\n"
          ]
        }
      ]
    },
    {
      "cell_type": "code",
      "source": [
        "test.count()\n"
      ],
      "metadata": {
        "colab": {
          "base_uri": "https://localhost:8080/"
        },
        "id": "Bb6TEAfy0zCY",
        "outputId": "30403886-be3b-4fef-cac4-381a2f7dffd3"
      },
      "execution_count": null,
      "outputs": [
        {
          "output_type": "execute_result",
          "data": {
            "text/plain": [
              "34"
            ]
          },
          "metadata": {},
          "execution_count": 32
        }
      ]
    },
    {
      "cell_type": "code",
      "source": [
        "train.count()"
      ],
      "metadata": {
        "colab": {
          "base_uri": "https://localhost:8080/"
        },
        "id": "8i6QMjY504Km",
        "outputId": "8704ceea-96b0-4b1d-a1d2-60d96e24e97e"
      },
      "execution_count": null,
      "outputs": [
        {
          "output_type": "execute_result",
          "data": {
            "text/plain": [
              "116"
            ]
          },
          "metadata": {},
          "execution_count": 33
        }
      ]
    },
    {
      "cell_type": "markdown",
      "source": [
        "### 5. Создать модель логистической регресии и обучить ее\n",
        "\n",
        "Теперь воспользуемся логистической регрессией (Logistic Regression), которая есть в PySpark, в качестве алгоритма Machine learning. Для этого нужно указать признаки, на которых модель обучается, и признак, который нужно классифицировать. Мы преобразовали признаки цветка в вектор под названием features, поэтому именно его и указываем в аргументе, а целевым признаком будет числовое поле varietyInd"
      ],
      "metadata": {
        "id": "ApVDDdLWVHiK"
      }
    },
    {
      "cell_type": "code",
      "source": [
        "lr = LogisticRegression(featuresCol = 'Features', labelCol = 'varietyInd')\n",
        "lrModel = lr.fit(train)"
      ],
      "metadata": {
        "id": "bbfuW-mCVIDO"
      },
      "execution_count": null,
      "outputs": []
    },
    {
      "cell_type": "markdown",
      "source": [
        "Осталось только получить предсказания. Для этого вызывается метод transform, который принимает тестовую выборку, а также обучающую (как обучилась модель):"
      ],
      "metadata": {
        "id": "ZA8rbpmq6SUp"
      }
    },
    {
      "cell_type": "code",
      "source": [
        "train_res = lrModel.transform(train)\n",
        "test_res = lrModel.transform(test)"
      ],
      "metadata": {
        "id": "mkg0VaN1VaJp"
      },
      "execution_count": null,
      "outputs": []
    },
    {
      "cell_type": "code",
      "source": [
        "# посмотрим, какие предсказания дает модель на обучающей выборке\n",
        "train_res.show()"
      ],
      "metadata": {
        "id": "f62i7r9LVbfG",
        "colab": {
          "base_uri": "https://localhost:8080/"
        },
        "outputId": "ae535103-e22f-44f0-ec53-a04e5f71d5a5"
      },
      "execution_count": null,
      "outputs": [
        {
          "output_type": "stream",
          "name": "stdout",
          "text": [
            "+------------+-----------+------------+-----------+----------+-----------------+----------+--------------------+--------------------+----------+\n",
            "|sepal_length|sepal_width|petal_length|petal_width|   variety|         Features|varietyInd|       rawPrediction|         probability|prediction|\n",
            "+------------+-----------+------------+-----------+----------+-----------------+----------+--------------------+--------------------+----------+\n",
            "|         4.3|        3.0|         1.1|        0.1|    Setosa|[4.3,3.0,1.1,0.1]|       0.0|[56.6274526968210...|[1.0,3.2319469090...|       0.0|\n",
            "|         4.4|        2.9|         1.4|        0.2|    Setosa|[4.4,2.9,1.4,0.2]|       0.0|[47.4233614265561...|[1.0,3.6362613229...|       0.0|\n",
            "|         4.4|        3.0|         1.3|        0.2|    Setosa|[4.4,3.0,1.3,0.2]|       0.0|[51.4018089744364...|[1.0,1.8249111068...|       0.0|\n",
            "|         4.4|        3.2|         1.3|        0.2|    Setosa|[4.4,3.2,1.3,0.2]|       0.0|[57.2610708901335...|[1.0,5.4124305806...|       0.0|\n",
            "|         4.5|        2.3|         1.3|        0.3|    Setosa|[4.5,2.3,1.3,0.3]|       0.0|[27.7663817271756...|[0.99999999805233...|       0.0|\n",
            "|         4.6|        3.1|         1.5|        0.2|    Setosa|[4.6,3.1,1.5,0.2]|       0.0|[50.5364386694245...|[1.0,5.2467836568...|       0.0|\n",
            "|         4.6|        3.4|         1.4|        0.3|    Setosa|[4.6,3.4,1.4,0.3]|       0.0|[58.0948216320793...|[1.0,9.9456038439...|       0.0|\n",
            "|         4.6|        3.6|         1.0|        0.2|    Setosa|[4.6,3.6,1.0,0.2]|       0.0|[70.4286764088261...|[1.0,1.6704223651...|       0.0|\n",
            "|         4.7|        3.2|         1.3|        0.2|    Setosa|[4.7,3.2,1.3,0.2]|       0.0|[54.7150187659381...|[1.0,2.8892856518...|       0.0|\n",
            "|         4.7|        3.2|         1.6|        0.2|    Setosa|[4.7,3.2,1.6,0.2]|       0.0|[51.5685689958428...|[1.0,1.1674990467...|       0.0|\n",
            "|         4.8|        3.0|         1.4|        0.1|    Setosa|[4.8,3.0,1.4,0.1]|       0.0|[49.2375827197333...|[1.0,9.8838734142...|       0.0|\n",
            "|         4.8|        3.0|         1.4|        0.3|    Setosa|[4.8,3.0,1.4,0.3]|       0.0|[44.6789297178882...|[1.0,1.6029820820...|       0.0|\n",
            "|         4.8|        3.4|         1.6|        0.2|    Setosa|[4.8,3.4,1.6,0.2]|       0.0|[56.5791468701414...|[1.0,1.3037866805...|       0.0|\n",
            "|         4.8|        3.4|         1.9|        0.2|    Setosa|[4.8,3.4,1.9,0.2]|       0.0|[53.4326971000461...|[1.0,5.2683254273...|       0.0|\n",
            "|         4.9|        2.4|         3.3|        1.0|Versicolor|[4.9,2.4,3.3,1.0]|       1.0|[-9.6303407876630...|[5.32639767127457...|       1.0|\n",
            "|         4.9|        3.0|         1.4|        0.2|    Setosa|[4.9,3.0,1.4,0.2]|       0.0|[46.1095721774123...|[1.0,4.7394429708...|       0.0|\n",
            "|         4.9|        3.1|         1.5|        0.1|    Setosa|[4.9,3.1,1.5,0.1]|       0.0|[50.2697130461516...|[1.0,2.1993307793...|       0.0|\n",
            "|         4.9|        3.1|         1.5|        0.2|    Setosa|[4.9,3.1,1.5,0.2]|       0.0|[47.9903865452291...|[1.0,2.8008593388...|       0.0|\n",
            "|         4.9|        3.6|         1.4|        0.1|    Setosa|[4.9,3.6,1.4,0.1]|       0.0|[65.9666844254261...|[1.0,9.7090878233...|       0.0|\n",
            "|         5.0|        2.0|         3.5|        1.0|Versicolor|[5.0,2.0,3.5,1.0]|       1.0|[-24.295181840519...|[1.05671500326179...|       1.0|\n",
            "+------------+-----------+------------+-----------+----------+-----------------+----------+--------------------+--------------------+----------+\n",
            "only showing top 20 rows\n",
            "\n"
          ]
        }
      ]
    },
    {
      "cell_type": "code",
      "source": [
        "# посмотрим, какие предсказания дает модель на тестовой выборке\n",
        "test_res.show()"
      ],
      "metadata": {
        "colab": {
          "base_uri": "https://localhost:8080/"
        },
        "id": "rQ4xaZ73-9Um",
        "outputId": "0a6e7e82-5b3e-499e-bb4d-8ba2be9792e9"
      },
      "execution_count": null,
      "outputs": [
        {
          "output_type": "stream",
          "name": "stdout",
          "text": [
            "+------------+-----------+------------+-----------+----------+-----------------+----------+--------------------+--------------------+----------+\n",
            "|sepal_length|sepal_width|petal_length|petal_width|   variety|         Features|varietyInd|       rawPrediction|         probability|prediction|\n",
            "+------------+-----------+------------+-----------+----------+-----------------+----------+--------------------+--------------------+----------+\n",
            "|         4.6|        3.2|         1.4|        0.2|    Setosa|[4.6,3.2,1.4,0.2]|       0.0|[54.5148862173048...|[1.0,2.6331753744...|       0.0|\n",
            "|         4.8|        3.1|         1.6|        0.2|    Setosa|[4.8,3.1,1.6,0.2]|       0.0|[47.7902539965958...|[1.0,2.5525872921...|       0.0|\n",
            "|         4.9|        2.5|         4.5|        1.7| Virginica|[4.9,2.5,4.5,1.7]|       2.0|[-35.241794416653...|[4.48835247452736...|       2.0|\n",
            "|         5.0|        3.0|         1.6|        0.2|    Setosa|[5.0,3.0,1.6,0.2]|       0.0|[43.1632549559503...|[1.0,2.1013773728...|       0.0|\n",
            "|         5.0|        3.2|         1.2|        0.2|    Setosa|[5.0,3.2,1.2,0.2]|       0.0|[53.2177832317745...|[1.0,4.4946920108...|       0.0|\n",
            "|         5.0|        3.5|         1.3|        0.3|    Setosa|[5.0,3.5,1.3,0.3]|       0.0|[58.6785330143658...|[1.0,1.0032641792...|       0.0|\n",
            "|         5.1|        3.5|         1.4|        0.3|    Setosa|[5.1,3.5,1.4,0.3]|       0.0|[56.7810323829355...|[1.0,1.2962935840...|       0.0|\n",
            "|         5.4|        3.4|         1.5|        0.4|    Setosa|[5.4,3.4,1.5,0.4]|       0.0|[47.9772062099372...|[1.0,1.7559640974...|       0.0|\n",
            "|         5.4|        3.9|         1.3|        0.4|    Setosa|[5.4,3.9,1.3,0.4]|       0.0|[64.7229941792435...|[1.0,2.2589926860...|       0.0|\n",
            "|         5.7|        2.8|         4.1|        1.3|Versicolor|[5.7,2.8,4.1,1.3]|       1.0|[-19.929801510478...|[3.77415609736883...|       1.0|\n",
            "|         5.7|        4.4|         1.5|        0.4|    Setosa|[5.7,4.4,1.5,0.4]|       0.0|[74.7274636642272...|[1.0,2.1511311914...|       0.0|\n",
            "|         5.8|        4.0|         1.2|        0.2|    Setosa|[5.8,4.0,1.2,0.2]|       0.0|[69.8653585633750...|[1.0,1.4050684485...|       0.0|\n",
            "|         6.0|        2.9|         4.5|        1.5|Versicolor|[6.0,2.9,4.5,1.5]|       1.0|[-28.300142038797...|[1.82104159401839...|       1.0|\n",
            "|         6.1|        2.6|         5.6|        1.4| Virginica|[6.1,2.6,5.6,1.4]|       2.0|[-47.195374943168...|[6.66225391734177...|       2.0|\n",
            "|         6.1|        2.9|         4.7|        1.4|Versicolor|[6.1,2.9,4.7,1.4]|       1.0|[-28.967132759337...|[5.23555832169751...|       1.0|\n",
            "|         6.2|        2.2|         4.5|        1.5|Versicolor|[6.2,2.2,4.5,1.5]|       1.0|[-50.504926826534...|[4.77266754064877...|       1.0|\n",
            "|         6.2|        2.9|         4.3|        1.3|Versicolor|[6.2,2.9,4.3,1.3]|       1.0|[-23.341223939685...|[2.45906060828249...|       1.0|\n",
            "|         6.2|        3.4|         5.4|        2.3| Virginica|[6.2,3.4,5.4,2.3]|       2.0|[-43.023316650018...|[4.73811359030773...|       2.0|\n",
            "|         6.4|        2.8|         5.6|        2.2| Virginica|[6.4,2.8,5.6,2.2]|       2.0|[-62.116777159047...|[3.16363257488871...|       2.0|\n",
            "|         6.4|        3.1|         5.5|        1.8| Virginica|[6.4,3.1,5.5,1.8]|       2.0|[-43.161761691779...|[8.77481558447713...|       2.0|\n",
            "+------------+-----------+------------+-----------+----------+-----------------+----------+--------------------+--------------------+----------+\n",
            "only showing top 20 rows\n",
            "\n"
          ]
        }
      ]
    },
    {
      "cell_type": "markdown",
      "source": [
        "### 6. Воспользоваться MulticlassClassificationEvaluator для оценки качества на train и test множестве\n",
        "\n",
        "Для оценки качества предсказания в spark реализованно несколько классов Если мы решаем задачу бинарной классификации (то есть классов - 2), то нам подойдет BinaryCLassificationEvaluator, а если классов больше 2-х, то MulticlassClassificationEvaluator.\n",
        "\n",
        "Проверим эффективность модели, используя метрику качества MulticlassClassificationEvaluator, тк признак variety состоит из 3х значений. Нужно лишь указать целевой признак ***varietyInd***, а затем вызвать метод ***evaluate*** и передать в него наши предсказания"
      ],
      "metadata": {
        "id": "U6VdjWVYVd_H"
      }
    },
    {
      "cell_type": "code",
      "source": [
        "ev = MulticlassClassificationEvaluator(labelCol='varietyInd')"
      ],
      "metadata": {
        "id": "YQ83IaN_Veok"
      },
      "execution_count": null,
      "outputs": []
    },
    {
      "cell_type": "code",
      "source": [
        "print('Точность предсказания на обучающей выборке:', ev.evaluate(train_res)*100, '%')"
      ],
      "metadata": {
        "id": "IIXDoLn_VrJ4",
        "colab": {
          "base_uri": "https://localhost:8080/"
        },
        "outputId": "29fef266-ab45-4858-d3a1-6f7e2d55a1e6"
      },
      "execution_count": null,
      "outputs": [
        {
          "output_type": "stream",
          "name": "stdout",
          "text": [
            "Точность предсказания на обучающей выборке: 98.27586206896552 %\n"
          ]
        }
      ]
    },
    {
      "cell_type": "code",
      "source": [
        "print('Точность предсказания на тестовой выборке:', ev.evaluate(test_res)*100, '%')"
      ],
      "metadata": {
        "id": "2GMdrUq0Vsnt",
        "colab": {
          "base_uri": "https://localhost:8080/"
        },
        "outputId": "8d3756ab-ab6a-4044-9557-9c576a1cfa58"
      },
      "execution_count": null,
      "outputs": [
        {
          "output_type": "stream",
          "name": "stdout",
          "text": [
            "Точность предсказания на тестовой выборке: 100.0 %\n"
          ]
        }
      ]
    },
    {
      "cell_type": "markdown",
      "source": [
        "### Выводы:\n",
        "Модель показала себя отлично:\n",
        "\n",
        "Точность предсказания на обучающей выборке: 98.27586206896552 %\n",
        "\n",
        "Точность предсказания на тестовой выборке: 100.0 %\n",
        "\n",
        "Прогнозу данной модели можно доверять."
      ],
      "metadata": {
        "id": "gwakh09opIIB"
      }
    }
  ]
}