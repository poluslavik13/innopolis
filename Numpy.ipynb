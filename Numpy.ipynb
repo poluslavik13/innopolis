{
  "nbformat": 4,
  "nbformat_minor": 0,
  "metadata": {
    "colab": {
      "name": "Numpy.ipynb",
      "provenance": [],
      "collapsed_sections": [],
      "authorship_tag": "ABX9TyPCeHRtyDIlOQQkHQjfCEmG",
      "include_colab_link": true
    },
    "kernelspec": {
      "name": "python3",
      "display_name": "Python 3"
    },
    "language_info": {
      "name": "python"
    }
  },
  "cells": [
    {
      "cell_type": "markdown",
      "metadata": {
        "id": "view-in-github",
        "colab_type": "text"
      },
      "source": [
        "<a href=\"https://colab.research.google.com/github/poluslavik13/innopolis/blob/main/Numpy.ipynb\" target=\"_parent\"><img src=\"https://colab.research.google.com/assets/colab-badge.svg\" alt=\"Open In Colab\"/></a>"
      ]
    },
    {
      "cell_type": "markdown",
      "source": [
        ""
      ],
      "metadata": {
        "id": "lt6F137iw7b_"
      }
    },
    {
      "cell_type": "markdown",
      "metadata": {
        "id": "wBv3Bl5LzI9o"
      },
      "source": [
        "# Упражнения с NumPy \n",
        "\n",
        "Давайте проверим ваши знания. Мы начнем с нескольких простых задач, а затем вам будут заданы несколько более сложных вопросов.\n",
        "\n",
        "Важно! Код, который вы напишите в этом ноутбуке, вам нужно сохранить в виде файла c именем \"Numpy_solutions.ipynb\" в вашем личном репозитории на GitHub."
      ]
    },
    {
      "cell_type": "markdown",
      "source": [
        "1. Импорт NumPy"
      ],
      "metadata": {
        "id": "jWdM4IquxD0F"
      }
    },
    {
      "cell_type": "code",
      "execution_count": 1,
      "metadata": {
        "id": "8oJMdUDnw2NM"
      },
      "outputs": [],
      "source": [
        "import numpy as np"
      ]
    },
    {
      "cell_type": "markdown",
      "source": [
        "2. Создать массив из 10 нулей"
      ],
      "metadata": {
        "id": "feFY07PCw5u7"
      }
    },
    {
      "cell_type": "code",
      "source": [
        "# Ваш код\n",
        "np.zeros(10)"
      ],
      "metadata": {
        "colab": {
          "base_uri": "https://localhost:8080/"
        },
        "id": "4GwOO5AvxWQY",
        "outputId": "f0ad42da-b82a-4f08-d1c3-5999aaa66571"
      },
      "execution_count": 3,
      "outputs": [
        {
          "output_type": "execute_result",
          "data": {
            "text/plain": [
              "array([0., 0., 0., 0., 0., 0., 0., 0., 0., 0.])"
            ]
          },
          "metadata": {},
          "execution_count": 3
        }
      ]
    },
    {
      "cell_type": "code",
      "source": [
        "# не пишите код в этой ячейке"
      ],
      "metadata": {
        "id": "CFyC6iIuxZLk"
      },
      "execution_count": null,
      "outputs": []
    },
    {
      "cell_type": "markdown",
      "source": [
        "3. Создать массив из 10 единиц"
      ],
      "metadata": {
        "id": "z2YLWQ5UxfE7"
      }
    },
    {
      "cell_type": "code",
      "source": [
        "np.ones(10)"
      ],
      "metadata": {
        "colab": {
          "base_uri": "https://localhost:8080/"
        },
        "id": "GDQMT0NVxiMx",
        "outputId": "98f2be40-6fa1-43ec-a7b9-3bec172656ba"
      },
      "execution_count": 4,
      "outputs": [
        {
          "output_type": "execute_result",
          "data": {
            "text/plain": [
              "array([1., 1., 1., 1., 1., 1., 1., 1., 1., 1.])"
            ]
          },
          "metadata": {},
          "execution_count": 4
        }
      ]
    },
    {
      "cell_type": "code",
      "source": [
        "# не пишите код в этой ячейке"
      ],
      "metadata": {
        "id": "eoRv7N7hxkcQ"
      },
      "execution_count": null,
      "outputs": []
    },
    {
      "cell_type": "markdown",
      "source": [
        "4. Создать массив из 10 пятерок"
      ],
      "metadata": {
        "id": "LDsBcKJ2xoiv"
      }
    },
    {
      "cell_type": "code",
      "source": [
        "np.full(10, 5, dtype=np.double)"
      ],
      "metadata": {
        "colab": {
          "base_uri": "https://localhost:8080/"
        },
        "id": "r3WBse3zxrCE",
        "outputId": "29cf2ae8-dfab-45d6-84ce-d589e5490494"
      },
      "execution_count": 5,
      "outputs": [
        {
          "output_type": "execute_result",
          "data": {
            "text/plain": [
              "array([5., 5., 5., 5., 5., 5., 5., 5., 5., 5.])"
            ]
          },
          "metadata": {},
          "execution_count": 5
        }
      ]
    },
    {
      "cell_type": "code",
      "source": [
        "# не пишите код в этой ячейке"
      ],
      "metadata": {
        "id": "QhcLetwpxvJT"
      },
      "execution_count": null,
      "outputs": []
    },
    {
      "cell_type": "markdown",
      "source": [
        "5. Создать массив из целых чисел от 10 до 50"
      ],
      "metadata": {
        "id": "QTs0Gnsmxxx1"
      }
    },
    {
      "cell_type": "code",
      "source": [
        "np.arange(10,51)"
      ],
      "metadata": {
        "colab": {
          "base_uri": "https://localhost:8080/"
        },
        "id": "VHG8QhXSxzy-",
        "outputId": "48266c82-ea30-43d7-de1d-1222f5810dcb"
      },
      "execution_count": 6,
      "outputs": [
        {
          "output_type": "execute_result",
          "data": {
            "text/plain": [
              "array([10, 11, 12, 13, 14, 15, 16, 17, 18, 19, 20, 21, 22, 23, 24, 25, 26,\n",
              "       27, 28, 29, 30, 31, 32, 33, 34, 35, 36, 37, 38, 39, 40, 41, 42, 43,\n",
              "       44, 45, 46, 47, 48, 49, 50])"
            ]
          },
          "metadata": {},
          "execution_count": 6
        }
      ]
    },
    {
      "cell_type": "code",
      "source": [
        "# не пишите код в этой ячейке"
      ],
      "metadata": {
        "id": "TESh7bbvx283"
      },
      "execution_count": null,
      "outputs": []
    },
    {
      "cell_type": "markdown",
      "source": [
        "6. Создать массив из четных числел от 10 до 50"
      ],
      "metadata": {
        "id": "3kYnibgvx65q"
      }
    },
    {
      "cell_type": "code",
      "source": [
        "np.arange(10, 51, 2)"
      ],
      "metadata": {
        "colab": {
          "base_uri": "https://localhost:8080/"
        },
        "id": "_1cAiyOmx_BS",
        "outputId": "6d79500a-1070-4344-8eaf-fb67c6beb31c"
      },
      "execution_count": 7,
      "outputs": [
        {
          "output_type": "execute_result",
          "data": {
            "text/plain": [
              "array([10, 12, 14, 16, 18, 20, 22, 24, 26, 28, 30, 32, 34, 36, 38, 40, 42,\n",
              "       44, 46, 48, 50])"
            ]
          },
          "metadata": {},
          "execution_count": 7
        }
      ]
    },
    {
      "cell_type": "code",
      "source": [
        "# не пишите код в этой ячейке"
      ],
      "metadata": {
        "id": "tsKxH5n5yCWx"
      },
      "execution_count": null,
      "outputs": []
    },
    {
      "cell_type": "markdown",
      "source": [
        "7. Создать матрицу 3х3 с числами от 0 до 8"
      ],
      "metadata": {
        "id": "FsAMDqo6yEZF"
      }
    },
    {
      "cell_type": "code",
      "source": [
        "np.arange(0, 9).reshape((3, 3))"
      ],
      "metadata": {
        "colab": {
          "base_uri": "https://localhost:8080/"
        },
        "id": "XB9Las-3yGeQ",
        "outputId": "6fada904-6dbd-4bc7-dbac-9468128443a0"
      },
      "execution_count": 8,
      "outputs": [
        {
          "output_type": "execute_result",
          "data": {
            "text/plain": [
              "array([[0, 1, 2],\n",
              "       [3, 4, 5],\n",
              "       [6, 7, 8]])"
            ]
          },
          "metadata": {},
          "execution_count": 8
        }
      ]
    },
    {
      "cell_type": "code",
      "source": [
        "# не пишите код в этой ячейке"
      ],
      "metadata": {
        "id": "bOeYDd17yKBX"
      },
      "execution_count": null,
      "outputs": []
    },
    {
      "cell_type": "markdown",
      "source": [
        "8. Создать единичную матрицу 3x3"
      ],
      "metadata": {
        "id": "kBSzk0yByMsS"
      }
    },
    {
      "cell_type": "code",
      "source": [
        "np.eye((3))"
      ],
      "metadata": {
        "colab": {
          "base_uri": "https://localhost:8080/"
        },
        "id": "GD_5nzANyO7a",
        "outputId": "8e9f0771-0968-448a-b56b-e93ce9a06fa3"
      },
      "execution_count": 9,
      "outputs": [
        {
          "output_type": "execute_result",
          "data": {
            "text/plain": [
              "array([[1., 0., 0.],\n",
              "       [0., 1., 0.],\n",
              "       [0., 0., 1.]])"
            ]
          },
          "metadata": {},
          "execution_count": 9
        }
      ]
    },
    {
      "cell_type": "code",
      "source": [
        "# не пишите код в этой ячейке"
      ],
      "metadata": {
        "id": "PASdw-kKyU1W"
      },
      "execution_count": null,
      "outputs": []
    },
    {
      "cell_type": "markdown",
      "source": [
        "9. Используйте NumPy для генерации случайного числа от 0 до 1\n",
        "\n",
        "ПРИМЕЧАНИЕ. Значение вашего результата должно отличаться от приведенного ниже."
      ],
      "metadata": {
        "id": "P8Me_QQkyXt9"
      }
    },
    {
      "cell_type": "code",
      "source": [
        "np.random.random()"
      ],
      "metadata": {
        "colab": {
          "base_uri": "https://localhost:8080/"
        },
        "id": "TKKFIWr1yan9",
        "outputId": "bffd88e9-119e-4abf-de14-546de579301a"
      },
      "execution_count": 10,
      "outputs": [
        {
          "output_type": "execute_result",
          "data": {
            "text/plain": [
              "0.5369305570718022"
            ]
          },
          "metadata": {},
          "execution_count": 10
        }
      ]
    },
    {
      "cell_type": "code",
      "source": [
        "# не пишите код в этой ячейке"
      ],
      "metadata": {
        "id": "z31K3mikylV0"
      },
      "execution_count": null,
      "outputs": []
    },
    {
      "cell_type": "markdown",
      "source": [
        "Используйте NumPy для генерации массива из 25 случайных чисел, взятых из стандартного нормального распределения\n",
        "\n",
        "ПРИМЕЧАНИЕ. Значение вашего результата должно отличаться от приведенного ниже."
      ],
      "metadata": {
        "id": "IOgPE2sryl5q"
      }
    },
    {
      "cell_type": "code",
      "source": [
        "np.random.rand(25)"
      ],
      "metadata": {
        "colab": {
          "base_uri": "https://localhost:8080/"
        },
        "id": "vIahhuj5yokF",
        "outputId": "0e5dbf65-3baa-46bf-9390-613701b34d78"
      },
      "execution_count": 11,
      "outputs": [
        {
          "output_type": "execute_result",
          "data": {
            "text/plain": [
              "array([0.74520053, 0.6270346 , 0.944021  , 0.74318688, 0.50428092,\n",
              "       0.08374951, 0.96992412, 0.19626804, 0.07358003, 0.9831337 ,\n",
              "       0.48309695, 0.62293873, 0.899943  , 0.86011375, 0.74254958,\n",
              "       0.34817733, 0.44005677, 0.10568318, 0.39594835, 0.72573412,\n",
              "       0.50549134, 0.05200481, 0.48388125, 0.1280319 , 0.78932184])"
            ]
          },
          "metadata": {},
          "execution_count": 11
        }
      ]
    },
    {
      "cell_type": "code",
      "source": [
        "# не пишите код в этой ячейке"
      ],
      "metadata": {
        "id": "6hcUZmRwyqu7"
      },
      "execution_count": null,
      "outputs": []
    },
    {
      "cell_type": "markdown",
      "source": [
        "11. Создайте следующую матрицу:"
      ],
      "metadata": {
        "id": "SE5CM3CkytwK"
      }
    },
    {
      "cell_type": "code",
      "source": [
        "np.arange(0.01, 1.01,0.01).reshape(10, -1)"
      ],
      "metadata": {
        "colab": {
          "base_uri": "https://localhost:8080/"
        },
        "id": "wSDjntwGywwt",
        "outputId": "a38c2ea0-7ff5-479e-921d-6ac0c6756a2b"
      },
      "execution_count": 12,
      "outputs": [
        {
          "output_type": "execute_result",
          "data": {
            "text/plain": [
              "array([[0.01, 0.02, 0.03, 0.04, 0.05, 0.06, 0.07, 0.08, 0.09, 0.1 ],\n",
              "       [0.11, 0.12, 0.13, 0.14, 0.15, 0.16, 0.17, 0.18, 0.19, 0.2 ],\n",
              "       [0.21, 0.22, 0.23, 0.24, 0.25, 0.26, 0.27, 0.28, 0.29, 0.3 ],\n",
              "       [0.31, 0.32, 0.33, 0.34, 0.35, 0.36, 0.37, 0.38, 0.39, 0.4 ],\n",
              "       [0.41, 0.42, 0.43, 0.44, 0.45, 0.46, 0.47, 0.48, 0.49, 0.5 ],\n",
              "       [0.51, 0.52, 0.53, 0.54, 0.55, 0.56, 0.57, 0.58, 0.59, 0.6 ],\n",
              "       [0.61, 0.62, 0.63, 0.64, 0.65, 0.66, 0.67, 0.68, 0.69, 0.7 ],\n",
              "       [0.71, 0.72, 0.73, 0.74, 0.75, 0.76, 0.77, 0.78, 0.79, 0.8 ],\n",
              "       [0.81, 0.82, 0.83, 0.84, 0.85, 0.86, 0.87, 0.88, 0.89, 0.9 ],\n",
              "       [0.91, 0.92, 0.93, 0.94, 0.95, 0.96, 0.97, 0.98, 0.99, 1.  ]])"
            ]
          },
          "metadata": {},
          "execution_count": 12
        }
      ]
    },
    {
      "cell_type": "code",
      "source": [
        "# не пишите код в этой ячейке"
      ],
      "metadata": {
        "id": "J-IlFMiRy6nE"
      },
      "execution_count": null,
      "outputs": []
    },
    {
      "cell_type": "markdown",
      "source": [
        "12. Создайте массив из 20 линейно расположенных точек между 0 и 1:"
      ],
      "metadata": {
        "id": "nQso7-mty16Y"
      }
    },
    {
      "cell_type": "code",
      "source": [
        "# не пишите код в этой ячейке"
      ],
      "metadata": {
        "id": "F4XzCjFAyzXg"
      },
      "execution_count": null,
      "outputs": []
    },
    {
      "cell_type": "code",
      "source": [
        "np.linspace(0, 1, 20)"
      ],
      "metadata": {
        "colab": {
          "base_uri": "https://localhost:8080/"
        },
        "id": "IZ-UNFLuy8vc",
        "outputId": "83502a57-84d7-428d-fc8b-04fa9c1f89bd"
      },
      "execution_count": 13,
      "outputs": [
        {
          "output_type": "execute_result",
          "data": {
            "text/plain": [
              "array([0.        , 0.05263158, 0.10526316, 0.15789474, 0.21052632,\n",
              "       0.26315789, 0.31578947, 0.36842105, 0.42105263, 0.47368421,\n",
              "       0.52631579, 0.57894737, 0.63157895, 0.68421053, 0.73684211,\n",
              "       0.78947368, 0.84210526, 0.89473684, 0.94736842, 1.        ])"
            ]
          },
          "metadata": {},
          "execution_count": 13
        }
      ]
    },
    {
      "cell_type": "markdown",
      "source": [
        "Numpy индексация и выборка\n",
        "Дана стартовая матрица (обязательно запустите ячейку ниже!). Вам необходимо повторить выходные результаты матрицы:"
      ],
      "metadata": {
        "id": "3m-xoFsjzARB"
      }
    },
    {
      "cell_type": "code",
      "source": [
        "# это наша стартовая матрица\n",
        "mat = np.arange(1,26).reshape(5,5)\n",
        "mat"
      ],
      "metadata": {
        "colab": {
          "base_uri": "https://localhost:8080/"
        },
        "id": "iToLOnAUzCDk",
        "outputId": "ad8df878-346c-499e-cc93-4dfe5c4ab6cc"
      },
      "execution_count": 14,
      "outputs": [
        {
          "output_type": "execute_result",
          "data": {
            "text/plain": [
              "array([[ 1,  2,  3,  4,  5],\n",
              "       [ 6,  7,  8,  9, 10],\n",
              "       [11, 12, 13, 14, 15],\n",
              "       [16, 17, 18, 19, 20],\n",
              "       [21, 22, 23, 24, 25]])"
            ]
          },
          "metadata": {},
          "execution_count": 14
        }
      ]
    },
    {
      "cell_type": "markdown",
      "source": [
        "13. Напишите код, который воспроизводит вывод, показанный ниже."
      ],
      "metadata": {
        "id": "59wz35r6zFTR"
      }
    },
    {
      "cell_type": "code",
      "source": [
        "# CODE HERE\n",
        "mat[2:,1:]"
      ],
      "metadata": {
        "colab": {
          "base_uri": "https://localhost:8080/"
        },
        "id": "FqIK7ydozHwV",
        "outputId": "7bfc1164-c698-4213-c02a-e5c9b2297c8e"
      },
      "execution_count": 15,
      "outputs": [
        {
          "output_type": "execute_result",
          "data": {
            "text/plain": [
              "array([[12, 13, 14, 15],\n",
              "       [17, 18, 19, 20],\n",
              "       [22, 23, 24, 25]])"
            ]
          },
          "metadata": {},
          "execution_count": 15
        }
      ]
    },
    {
      "cell_type": "markdown",
      "source": [
        "14. Напишите код, который воспроизводит вывод, показанный ниже."
      ],
      "metadata": {
        "id": "tfYIxFT1zM6U"
      }
    },
    {
      "cell_type": "code",
      "source": [
        "mat[3][4]"
      ],
      "metadata": {
        "colab": {
          "base_uri": "https://localhost:8080/"
        },
        "id": "97TYyhL0zOxo",
        "outputId": "2e2eed2e-3c30-43af-8e1a-a68d136d9119"
      },
      "execution_count": 16,
      "outputs": [
        {
          "output_type": "execute_result",
          "data": {
            "text/plain": [
              "20"
            ]
          },
          "metadata": {},
          "execution_count": 16
        }
      ]
    },
    {
      "cell_type": "code",
      "source": [
        "# не пишите код в этой ячейке"
      ],
      "metadata": {
        "id": "YVkbf8d2zRfz"
      },
      "execution_count": null,
      "outputs": []
    },
    {
      "cell_type": "markdown",
      "source": [
        "15. Напишите код, который воспроизводит вывод, показанный ниже."
      ],
      "metadata": {
        "id": "hHgxbiLizTa4"
      }
    },
    {
      "cell_type": "code",
      "source": [
        "mat[:3,1].reshape(3,1)"
      ],
      "metadata": {
        "colab": {
          "base_uri": "https://localhost:8080/"
        },
        "id": "WMs4o5cxzVnS",
        "outputId": "7c7a2ce3-49f3-4108-9b07-a9035e55921b"
      },
      "execution_count": 17,
      "outputs": [
        {
          "output_type": "execute_result",
          "data": {
            "text/plain": [
              "array([[ 2],\n",
              "       [ 7],\n",
              "       [12]])"
            ]
          },
          "metadata": {},
          "execution_count": 17
        }
      ]
    },
    {
      "cell_type": "code",
      "source": [
        "# не пишите код в этой ячейке"
      ],
      "metadata": {
        "id": "Es-X8M4NzYnD"
      },
      "execution_count": null,
      "outputs": []
    },
    {
      "cell_type": "markdown",
      "source": [
        "16. Напишите код, который воспроизводит вывод, показанный ниже."
      ],
      "metadata": {
        "id": "CeqIJC6hzaTf"
      }
    },
    {
      "cell_type": "code",
      "source": [
        "mat[4][0:]"
      ],
      "metadata": {
        "colab": {
          "base_uri": "https://localhost:8080/"
        },
        "id": "YTiPNyfMzdAz",
        "outputId": "08cd2389-4e57-4e1b-d748-beab490d7392"
      },
      "execution_count": 18,
      "outputs": [
        {
          "output_type": "execute_result",
          "data": {
            "text/plain": [
              "array([21, 22, 23, 24, 25])"
            ]
          },
          "metadata": {},
          "execution_count": 18
        }
      ]
    },
    {
      "cell_type": "markdown",
      "source": [
        "17. Напишите код, который воспроизводит вывод, показанный ниже."
      ],
      "metadata": {
        "id": "T8mX8Bjfzf4R"
      }
    },
    {
      "cell_type": "code",
      "source": [
        "mat[3:][0:]"
      ],
      "metadata": {
        "colab": {
          "base_uri": "https://localhost:8080/"
        },
        "id": "UhE6UXEuzhdf",
        "outputId": "053fe110-a752-428d-b5bb-291fe0011b17"
      },
      "execution_count": 19,
      "outputs": [
        {
          "output_type": "execute_result",
          "data": {
            "text/plain": [
              "array([[16, 17, 18, 19, 20],\n",
              "       [21, 22, 23, 24, 25]])"
            ]
          },
          "metadata": {},
          "execution_count": 19
        }
      ]
    },
    {
      "cell_type": "code",
      "source": [
        "# не пишите код в этой ячейке"
      ],
      "metadata": {
        "id": "vTTkkwvfzkgD"
      },
      "execution_count": null,
      "outputs": []
    },
    {
      "cell_type": "markdown",
      "source": [
        "Операции NumPy"
      ],
      "metadata": {
        "id": "zLc6ndq2zmYj"
      }
    },
    {
      "cell_type": "markdown",
      "source": [
        "18. Получить сумму всех значений в матрице mat"
      ],
      "metadata": {
        "id": "2bCVop72zr_G"
      }
    },
    {
      "cell_type": "code",
      "source": [
        "np.sum(mat)"
      ],
      "metadata": {
        "colab": {
          "base_uri": "https://localhost:8080/"
        },
        "id": "BjS9VFAXztRq",
        "outputId": "fb8bfd5a-8616-4366-e190-964486365e5d"
      },
      "execution_count": 20,
      "outputs": [
        {
          "output_type": "execute_result",
          "data": {
            "text/plain": [
              "325"
            ]
          },
          "metadata": {},
          "execution_count": 20
        }
      ]
    },
    {
      "cell_type": "markdown",
      "source": [
        "19. Получить стандартное отклонение в матрице mat"
      ],
      "metadata": {
        "id": "8xxVGiqzzwCu"
      }
    },
    {
      "cell_type": "code",
      "source": [
        "np.std(mat)"
      ],
      "metadata": {
        "colab": {
          "base_uri": "https://localhost:8080/"
        },
        "id": "qEILrne3zzV1",
        "outputId": "928e803c-eda7-42c2-cb7c-4e287d94a8fa"
      },
      "execution_count": 21,
      "outputs": [
        {
          "output_type": "execute_result",
          "data": {
            "text/plain": [
              "7.211102550927978"
            ]
          },
          "metadata": {},
          "execution_count": 21
        }
      ]
    },
    {
      "cell_type": "code",
      "source": [
        "# не пишите код в этой ячейке"
      ],
      "metadata": {
        "id": "oPspUrEYz1hy"
      },
      "execution_count": null,
      "outputs": []
    },
    {
      "cell_type": "markdown",
      "source": [
        "20. Получить сумму значений в колонках в матрице mat"
      ],
      "metadata": {
        "id": "uBXzWQSPz5KD"
      }
    },
    {
      "cell_type": "code",
      "source": [
        "mat.sum(axis = 0)"
      ],
      "metadata": {
        "colab": {
          "base_uri": "https://localhost:8080/"
        },
        "id": "Jx06oNzBz6tS",
        "outputId": "54cf2bc2-ca3d-445f-a36b-1ec0225a0caf"
      },
      "execution_count": 22,
      "outputs": [
        {
          "output_type": "execute_result",
          "data": {
            "text/plain": [
              "array([55, 60, 65, 70, 75])"
            ]
          },
          "metadata": {},
          "execution_count": 22
        }
      ]
    },
    {
      "cell_type": "markdown",
      "source": [
        "Бонусный вопрос\n",
        "Есть ли способ гарантировать, что мы всегда получим одинаковые случайные числа?"
      ],
      "metadata": {
        "id": "vSsd8fKrz8_5"
      }
    },
    {
      "cell_type": "code",
      "source": [
        "np.random.seed(42)\n",
        "b=np.random.randint(1,100,9)\n",
        "b"
      ],
      "metadata": {
        "colab": {
          "base_uri": "https://localhost:8080/"
        },
        "id": "KMPW4_sAz-4q",
        "outputId": "8bc17252-d15c-4aac-843b-d58472a317f8"
      },
      "execution_count": 23,
      "outputs": [
        {
          "output_type": "execute_result",
          "data": {
            "text/plain": [
              "array([52, 93, 15, 72, 61, 21, 83, 87, 75])"
            ]
          },
          "metadata": {},
          "execution_count": 23
        }
      ]
    }
  ]
}